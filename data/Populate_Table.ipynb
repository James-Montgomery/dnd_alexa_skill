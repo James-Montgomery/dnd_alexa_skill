{
 "cells": [
  {
   "cell_type": "code",
   "execution_count": 4,
   "metadata": {},
   "outputs": [],
   "source": [
    "import boto3\n",
    "import pandas as pd"
   ]
  },
  {
   "cell_type": "code",
   "execution_count": 2,
   "metadata": {},
   "outputs": [],
   "source": [
    "dynamodb = boto3.resource(\n",
    "    'dynamodb',\n",
    "    region_name='us-east-1'\n",
    "    )"
   ]
  },
  {
   "cell_type": "code",
   "execution_count": 3,
   "metadata": {},
   "outputs": [],
   "source": [
    "table = dynamodb.Table('Spell_Book')"
   ]
  },
  {
   "cell_type": "code",
   "execution_count": 8,
   "metadata": {},
   "outputs": [],
   "source": [
    "df = pd.read_csv(\"./spells.csv\")"
   ]
  },
  {
   "cell_type": "code",
   "execution_count": 14,
   "metadata": {},
   "outputs": [
    {
     "name": "stdout",
     "output_type": "stream",
     "text": [
      "Float types are not supported. Use Decimal types instead.\n",
      "Float types are not supported. Use Decimal types instead.\n",
      "Float types are not supported. Use Decimal types instead.\n",
      "Float types are not supported. Use Decimal types instead.\n",
      "Float types are not supported. Use Decimal types instead.\n",
      "Float types are not supported. Use Decimal types instead.\n"
     ]
    }
   ],
   "source": [
    "from time import sleep\n",
    "\n",
    "for index, row in df.iterrows():\n",
    "    \n",
    "    item = {'casting_time' : row.casting_time,\n",
    "            'components' : row.components,\n",
    "            'description' : row.description,\n",
    "            'duration' : row.duration,\n",
    "            'evocation_level' : row.evocation_level,\n",
    "            'range' : row.range,\n",
    "            'spell_name' : row.spell_name\n",
    "           }\n",
    "    \n",
    "    try:\n",
    "        table.put_item(Item=item)\n",
    "    except Exception as e: \n",
    "        print(e)\n",
    "\n",
    "        \n",
    "    sleep(0.5)"
   ]
  },
  {
   "cell_type": "code",
   "execution_count": null,
   "metadata": {},
   "outputs": [],
   "source": []
  }
 ],
 "metadata": {
  "kernelspec": {
   "display_name": "test_env",
   "language": "python",
   "name": "test_env"
  },
  "language_info": {
   "codemirror_mode": {
    "name": "ipython",
    "version": 3
   },
   "file_extension": ".py",
   "mimetype": "text/x-python",
   "name": "python",
   "nbconvert_exporter": "python",
   "pygments_lexer": "ipython3",
   "version": "3.6.0"
  }
 },
 "nbformat": 4,
 "nbformat_minor": 2
}
