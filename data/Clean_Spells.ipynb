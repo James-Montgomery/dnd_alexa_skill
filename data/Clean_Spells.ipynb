{
 "cells": [
  {
   "cell_type": "code",
   "execution_count": 15,
   "metadata": {},
   "outputs": [],
   "source": [
    "from os import listdir\n",
    "from os.path import isfile, join"
   ]
  },
  {
   "cell_type": "code",
   "execution_count": 19,
   "metadata": {},
   "outputs": [],
   "source": [
    "spells_path = './spells/'\n",
    "files = [f for f in listdir(spells_path) if len(f) == 1]"
   ]
  },
  {
   "cell_type": "code",
   "execution_count": 43,
   "metadata": {},
   "outputs": [],
   "source": [
    "spell_dictionary = {\n",
    "                    'spell_name':[], 'evocation_level':[],\n",
    "                    'components':[], 'description':[],\n",
    "                    'casting_time':[], 'range':[],\n",
    "                    'duration':[]\n",
    "                   }\n",
    "\n",
    "errors = []\n",
    "\n",
    "for i in files:\n",
    "    spell_path = spells_path + i + '/'\n",
    "    onlyfiles = [f for f in listdir(spell_path) if (f != '.DS_Store' and f != 'index.rst')]\n",
    "        \n",
    "    for x in onlyfiles:\n",
    "        \n",
    "        filename = spell_path + x\n",
    "                \n",
    "        f = open(filename, \"r\")\n",
    "        \n",
    "        lines = []\n",
    "        for line in f:\n",
    "            lines.append(line)\n",
    "        \n",
    "        data = ''.join(lines)\n",
    "        data = data.replace('^','').replace('-','').replace('.. _srd:','').replace('\\n\\n\\n','*')\n",
    "        data = data.replace('Range','*').replace(':','').replace('Components','').replace('Casting Time','')\n",
    "        data = data.replace('Duration','')\n",
    "        data = data.lower()\n",
    "        \n",
    "        try:\n",
    "            data = data.split('*')\n",
    "            data = [_ for _ in filter(lambda a: a != '', data)]\n",
    "\n",
    "            data[0] = data[0].replace('\\n','')            \n",
    "            l = int(len(data[0].replace(\" \", \"\")) / 2)\n",
    "            data[0] = data[0][l:]\n",
    "            \n",
    "            data[2] = data[2].replace('\\n','')\n",
    "            data[3] = data[3].replace('\\n','')\n",
    "            data[4] = data[4].replace('\\n','')\n",
    "            data.append( data[5].splitlines()[0]  )\n",
    "            data[5] = ''.join(data[5].splitlines()[1:])\n",
    "\n",
    "            spell_dictionary['spell_name'].append(data[0])\n",
    "            spell_dictionary['evocation_level'].append(data[1])\n",
    "            spell_dictionary['components'].append(data[4])\n",
    "            spell_dictionary['description'].append(data[5])\n",
    "            spell_dictionary['casting_time'].append(data[2])\n",
    "            spell_dictionary['range'].append(data[3])\n",
    "            spell_dictionary['duration'].append(data[-1])\n",
    "        except:\n",
    "            errors.append(x)\n"
   ]
  },
  {
   "cell_type": "code",
   "execution_count": 45,
   "metadata": {},
   "outputs": [],
   "source": [
    "import pandas as pd\n",
    "df = pd.DataFrame.from_dict(spell_dictionary)\n",
    "#df.to_csv('./spells.csv')"
   ]
  },
  {
   "cell_type": "code",
   "execution_count": null,
   "metadata": {},
   "outputs": [],
   "source": []
  }
 ],
 "metadata": {
  "kernelspec": {
   "display_name": "Python 3",
   "language": "python",
   "name": "python3"
  },
  "language_info": {
   "codemirror_mode": {
    "name": "ipython",
    "version": 3
   },
   "file_extension": ".py",
   "mimetype": "text/x-python",
   "name": "python",
   "nbconvert_exporter": "python",
   "pygments_lexer": "ipython3",
   "version": "3.7.1"
  }
 },
 "nbformat": 4,
 "nbformat_minor": 2
}
